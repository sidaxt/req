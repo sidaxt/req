{
 "cells": [
  {
   "cell_type": "code",
   "execution_count": 24,
   "metadata": {},
   "outputs": [
    {
     "name": "stdout",
     "output_type": "stream",
     "text": [
      "Uploaded DSI_User_mannual_Kumo-AI (1).pdf to container bulk-upload\n",
      "Uploaded MoM_26-10-23.txt to container bulk-upload\n",
      "Uploaded MoM_30-10-23.txt to container bulk-upload\n"
     ]
    }
   ],
   "source": [
    "from azure.storage.blob import BlobServiceClient\n",
    "import os\n",
    "\n",
    "\n",
    "# Azure storage connection string\n",
    "connection_string = \"DefaultEndpointsProtocol=https;AccountName=sapocopenai;AccountKey=H30mVmhmyKpFmLUkFSKpDO3CUe+jbcG8aGZ8TgCRNTQj5Ac5HB+649BzYypyo9eW0W9BRy9Z0oFr+ASt6hAVYw==;EndpointSuffix=core.windows.net\"\n",
    "container_name = \"bulk-upload\"\n",
    "local_folder = \"files\"\n",
    "\n",
    "# Create a BlobServiceClient\n",
    "blob_service_client = BlobServiceClient.from_connection_string(connection_string)\n",
    "\n",
    "# Get the container client\n",
    "container_client = blob_service_client.get_container_client(container_name)\n",
    "\n",
    "# Upload files\n",
    "for root, dirs, files in os.walk(local_folder):\n",
    "    for file in files:\n",
    "        blob_client = container_client.get_blob_client(os.path.join(root, file))\n",
    "        with open(os.path.join(root, file), \"rb\") as data:\n",
    "            blob_client.upload_blob(data)\n",
    "        print(f\"Uploaded {file} to container {container_name}\")"
   ]
  },
  {
   "cell_type": "code",
   "execution_count": 26,
   "metadata": {},
   "outputs": [
    {
     "name": "stdout",
     "output_type": "stream",
     "text": [
      "Index 'akurapa_bulk' created.\n"
     ]
    }
   ],
   "source": [
    "from azure.core.credentials import AzureKeyCredential\n",
    "from azure.search.documents.indexes import SearchIndexClient\n",
    "from azure.search.documents.indexes.models import SimpleField, SearchIndex, SearchableField, SearchField, SearchFieldDataType\n",
    "\n",
    "# Azure Search credentials\n",
    "search_service_name = \"poc-openai-cogsrch\"\n",
    "\n",
    "admin_key = AzureKeyCredential(\"TBpoXA6at3L38HsBWSRHnZWfstC07Txt7kDulY7ccDAzSeAHslm9\")\n",
    "index_name = \"akurapa_bulk\"\n",
    "# indexer_client = SearchIndexerClient(endpoint=f\"https://{search_service_name}.search.windows.net\", credential=admin_key)\n",
    "\n",
    "# admin_key = \"your_admin_key\"\n",
    "# index_name = \"your_index_name\"\n",
    "\n",
    "# Initialize SearchIndexClient\n",
    "search_service_endpoint = f\"https://{search_service_name}.search.windows.net\"\n",
    "search_client = SearchIndexClient(endpoint=search_service_endpoint, credential=admin_key)\n",
    "\n",
    "# Define the search index schema\n",
    "fields = [\n",
    "    SimpleField(name=\"id\", type=\"Edm.String\", key=True),\n",
    "    SearchableField(name=\"content\", type=\"Edm.String\", searchable=True, filterable=False, sortable=False),\n",
    "    SearchField(name=\"metadata_storage_path\", type=SearchFieldDataType.String)\n",
    "]\n",
    "\n",
    "index = SearchIndex(name=index_name, fields=fields)\n",
    "\n",
    "# Create the search index\n",
    "search_client.create_index(index)\n",
    "print(f\"Index '{index_name}' created.\")\n"
   ]
  },
  {
   "cell_type": "code",
   "execution_count": 27,
   "metadata": {},
   "outputs": [],
   "source": [
    "from langchain.document_loaders import UnstructuredPDFLoader, PyPDFLoader\n",
    "from langchain.text_splitter import RecursiveCharacterTextSplitter\n",
    "\n",
    "path = \"2_sample_biology.pdf\"\n",
    "loader = PyPDFLoader(path)\n",
    "\n",
    "doc = loader.load()\n",
    "\n",
    "text_splitter = RecursiveCharacterTextSplitter(chunk_size = 1000, chunk_overlap  = 200)\n",
    "docs = text_splitter.split_documents(doc)"
   ]
  },
  {
   "cell_type": "code",
   "execution_count": 28,
   "metadata": {},
   "outputs": [
    {
     "data": {
      "text/plain": [
       "[Document(page_content='Case Report\\nComplementary Effects of Surgery and Pexidartinib in the\\nManagement of Patients with Complex Diffuse-TenosynovialGiant Cell Tumor\\nNicholas M. Bernthal ,1R. Lor Randall ,2Lauren N. Zeitlinger ,2Erik J. Geiger ,1\\nand John H. Healey3\\n1Department of Orthopaedic Surgery, David Ge ﬀen School of Medicine at UCLA, 1225 15th Street, Suite 2100, Santa Monica, CA,\\nUSA 90404\\n2Department of Orthopaedic Surgery, University of California, Davis, 4860 Y Street, Suite 3800, Sacramento, CA, USA 95817\\n3Department of Surgery, Orthopaedic Service, Memorial Sloan Kettering Cancer Center, 1275 York Avenue, New York, NY, USA\\n10065\\nCorrespondence should be addressed to Nicholas M. Bernthal; nbernthal@mednet.ucla.edu\\nReceived 20 June 2022; Revised 6 October 2022; Accepted 4 November 2022; Published 3 December 2022 \\nAcademic Editor: Taketoshi Yasuda\\nCopyright © 2022 Nicholas M. Bernthal et al. This is an open access article distributed under the Creative Commons Attribution', metadata={'source': '2_sample_biology.pdf', 'page': 0}),\n",
       " Document(page_content='Academic Editor: Taketoshi Yasuda\\nCopyright © 2022 Nicholas M. Bernthal et al. This is an open access article distributed under the Creative Commons Attribution\\nLicense, which permits unrestricted use, distribution, and reproduction in any medium, provided the original work is\\nproperly cited.\\nTenosynovial giant cell tumor (TGCT) is a rare neoplasm of the joint synovium that has a wide clinical spectrum including pain\\nand sti ﬀness in the a ﬀected joint, joint swelling, periarticular erosions, and cartilage loss, which can severely impact quality of life.\\nThe mainstay treatment for TGCT has been surgery involving partial or total synovectomy using arthroscopic or open techniques.However, surgical resection alone is associated with high recurrence rates, particularly in di ﬀuse-TGCT (D-TGCT) cases. The 3\\ncases presented here summarize a combination approach (surgery+pexidartinib [tyrosine kinase inhibitor]) in patients with', metadata={'source': '2_sample_biology.pdf', 'page': 0}),\n",
       " Document(page_content='cases presented here summarize a combination approach (surgery+pexidartinib [tyrosine kinase inhibitor]) in patients with\\npreviously unresectable or inoperable D-TGCT. Case 1-Hip. A 29-year-old male was treated with pexidartinib prior to surgery,\\nresulting in tumor reduction. A left total hip arthroplasty (THA) was then performed with a lack of recurrence in 12 monthspostoperative, and the patient currently on pexidartinib treatment. Case 2-Foot. A 35-year-old female, nearly a decade\\nfollowing a left foot mass resection, was treated with pexidartinib following disease recurrence. A decrease in soft tissue lesions\\nat the midfoot and decreased marrow enhancement at the ﬁrst metatarsal head were seen within 4 –5 months of pexidartinib\\ntreatment; the patient is currently on pexidartinib (400 mg/day) with improved symptom control. Case 3-Knee. A 55-year-old', metadata={'source': '2_sample_biology.pdf', 'page': 0}),\n",
       " Document(page_content='treatment; the patient is currently on pexidartinib (400 mg/day) with improved symptom control. Case 3-Knee. A 55-year-old\\nmale patient received pexidartinib pre- and postoperatively. A reduction in swelling and the size of the popliteal cyst wassigniﬁcant and maintained, with the synovial disease growing when pexidartinib was discontinued. Surgery and adjuvant\\ntherapy eliminated the disease as of the last follow-up visit (11 months postoperative). These cases provide a unique\\nperspective based on tumor location, type/timing of treatment strategy, and patient outcomes. Optimal treatment strategies forthis debilitating disease may entail utilizing a combination approach (surgery+systemic treatment) to reduce surgical morbidityand the risk of postoperative disease recurrence.\\n1. Introduction\\nTenosynovial giant cell tumor (TGCT) is a rare, usually\\nbenign neoplasm derived from the synovium. TGCT a ﬀects', metadata={'source': '2_sample_biology.pdf', 'page': 0}),\n",
       " Document(page_content='1. Introduction\\nTenosynovial giant cell tumor (TGCT) is a rare, usually\\nbenign neoplasm derived from the synovium. TGCT a ﬀects\\njoints, bursae, and tendon sheaths causing symptoms thatinclude pain, in ﬂammation, and joint sti ﬀness [1 –4]. This\\ndisease has a wide clinical spectrum capable of a ﬀectingpatients of all ages but most commonly occurs in young\\nadult females with a median age of 40 years [2, 5, 6]. TGCTis divided according to the site of origin (intra- or extra-\\narticular) and growth pattern: localized TGCT (L-TGCT),\\nformerly known as giant cell tumor of tendon sheath ordiﬀuse TGCT (D-TGCT), previously referred to as pigmen-\\nted villonodular synovitis (PVNS) [3, 7 –9]. The worldwideHindawi\\nCase Reports in Orthopedics\\nVolume 2022, Article ID 7768764, 13 pages\\nhttps://doi.org/10.1155/2022/7768764', metadata={'source': '2_sample_biology.pdf', 'page': 0}),\n",
       " Document(page_content='incidence rate of TGCT (L-TGCT and D-TGCT combined)\\nis estimated to be 43 per million, with the localized formbeing more prevalent than di ﬀuse disease [10]. L-TGCT\\nmainly a ﬀects small joints (i.e., ﬁngers or wrists) [11], while\\nD-TGCT frequently involves large joints such as the hip,ankle, elbow, or most commonly, the knee [12]. The main-stay of treatment for TGCT has been surgery involving par-tial or total synovectomy using arthroscopic or opentechniques. While L-TGCT is often treated successfullywith arthroscopic or open surgery incurring a low rate ofrecurrence, D-TGCT has been associated with high recur-\\nrence rates following both arthroscopy and open surgical\\napproaches [1, 4]. Surgical treatment can result in increasedmorbidity and has a detrimental e ﬀect on patient quality of\\nlife [13, 14].\\nRecently, systemic treatment with tyrosine kinase', metadata={'source': '2_sample_biology.pdf', 'page': 1}),\n",
       " Document(page_content='approaches [1, 4]. Surgical treatment can result in increasedmorbidity and has a detrimental e ﬀect on patient quality of\\nlife [13, 14].\\nRecently, systemic treatment with tyrosine kinase\\ninhibitors (TKIs) or monoclonal antibodies targeting thecolony-stimulating factor-1 receptor (CSF1R), i.e., ima-tinib, nilotinib, emactuzumab, cabiralizumab, and pexidar-tinib, have been utilized with encouraging results in casesnot amenable to surgery [15, 16]. The cases presented heredemonstrate how CSF1R inhibitors (e.g., pexidartinib) in\\ncombination with surgery can be used e ﬀectively in\\npatients with previously unresectable or inoperable D-TGCT. More speci ﬁcally, we summarize multiple patientcase studies in which pexidartinib was used prior to sur-\\ngery, after surgery, or both to potentially downstage theextent of surgery, reduce surgical morbidity, or reducethe risk of disease recurrence postoperatively.\\n2. Case Presentations\\n2.1. Case 1-Hip. A 29-year-old male with no past medical', metadata={'source': '2_sample_biology.pdf', 'page': 1}),\n",
       " Document(page_content='2. Case Presentations\\n2.1. Case 1-Hip. A 29-year-old male with no past medical\\nhistory developed new onset left-lateral hip pain while run-ning in August 2019. After an unsuccessful trial of physical\\n(a)\\n (b)\\n(c)\\nFigure 1: Representative MRI slices from of a 29-year-old male with D-TGCT in the left hip at diagnosis. Coronal (a, b) and axial (c) MR\\nimaging demonstrating severe arthritic changes of the left hip joint with erosions present (∗), (b) massive TGCT tumor burden running\\nalong the anterior hip and into the pelvis adjacent to the iliacus muscle (arrowhead), and (c) tumor burden both posterior to the hip inthe ischiofemoral fossa and anterior to the psoas insertion (arrow).\\nFigure 2: Histology images in the hip prior to pexidartinib\\ntreatment. The pretreatment biopsy demonstrating a cellularproliferation of tumor cells composed of abundant hemosiderinladen macrophages, multinucleated giant cells, scattered foamhistiocytes, and lymphocytes (H&E 200X).2 Case Reports in Orthopedics', metadata={'source': '2_sample_biology.pdf', 'page': 1})]"
      ]
     },
     "execution_count": 28,
     "metadata": {},
     "output_type": "execute_result"
    }
   ],
   "source": [
    "# docs"
   ]
  },
  {
   "cell_type": "code",
   "execution_count": 29,
   "metadata": {},
   "outputs": [],
   "source": [
    "from azure.search.documents import SearchClient\n",
    "from azure.core.credentials import AzureKeyCredential\n",
    "\n",
    "admin_key = AzureKeyCredential(\"TBpoXA6at3L38HsBWSRHnZWfstC07Txt7kDulY7ccDAzSeAHslm9\")\n",
    "# index_name = \"bulk-upload-testing\"\n",
    "index_name = \"akurapa_bulk\"\n",
    "search_service_name = \"poc-openai-cogsrch\"\n",
    "search_service_endpoint = f\"https://{search_service_name}.search.windows.net\"\n",
    "\n",
    "# Initialize SearchClient\n",
    "index_client = SearchClient(endpoint=search_service_endpoint, index_name=index_name, credential=admin_key)\n",
    "\n"
   ]
  },
  {
   "cell_type": "code",
   "execution_count": 30,
   "metadata": {},
   "outputs": [],
   "source": [
    "documents = []\n",
    "for i, k in enumerate(docs):\n",
    "    document = {\n",
    "        \"id\": str(i+1),\n",
    "        \"content\": k.page_content,\n",
    "        \"metadata_storage_path\": k.metadata['source']\n",
    "    }\n",
    "    documents.append(document)"
   ]
  },
  {
   "cell_type": "code",
   "execution_count": null,
   "metadata": {},
   "outputs": [],
   "source": []
  },
  {
   "cell_type": "code",
   "execution_count": 31,
   "metadata": {},
   "outputs": [
    {
     "name": "stdout",
     "output_type": "stream",
     "text": [
      "Documents uploaded to the index.\n"
     ]
    }
   ],
   "source": [
    "index_client.upload_documents(documents=documents)\n",
    "print(\"Documents uploaded to the index.\")"
   ]
  },
  {
   "cell_type": "code",
   "execution_count": 32,
   "metadata": {},
   "outputs": [],
   "source": [
    "results = index_client.search(\"Tenosynovial giant cell tumor (TGCT\",search_fields=[\"content\"], top=5)"
   ]
  },
  {
   "cell_type": "code",
   "execution_count": 33,
   "metadata": {},
   "outputs": [
    {
     "name": "stdout",
     "output_type": "stream",
     "text": [
      "{'id': '8', 'metadata_storage_path': '2_sample_biology.pdf', 'content': '2. Case Presentations\\n2.1. Case 1-Hip. A 29-year-old male with no past medical\\nhistory developed new onset left-lateral hip pain while run-ning in August 2019. After an unsuccessful trial of physical\\n(a)\\n (b)\\n(c)\\nFigure 1: Representative MRI slices from of a 29-year-old male with D-TGCT in the left hip at diagnosis. Coronal (a, b) and axial (c) MR\\nimaging demonstrating severe arthritic changes of the left hip joint with erosions present (∗), (b) massive TGCT tumor burden running\\nalong the anterior hip and into the pelvis adjacent to the iliacus muscle (arrowhead), and (c) tumor burden both posterior to the hip inthe ischiofemoral fossa and anterior to the psoas insertion (arrow).\\nFigure 2: Histology images in the hip prior to pexidartinib\\ntreatment. The pretreatment biopsy demonstrating a cellularproliferation of tumor cells composed of abundant hemosiderinladen macrophages, multinucleated giant cells, scattered foamhistiocytes, and lymphocytes (H&E 200X).2 Case Reports in Orthopedics', '@search.score': 1.1254908, '@search.reranker_score': None, '@search.highlights': None, '@search.captions': None}\n",
      "{'id': '5', 'metadata_storage_path': '2_sample_biology.pdf', 'content': '1. Introduction\\nTenosynovial giant cell tumor (TGCT) is a rare, usually\\nbenign neoplasm derived from the synovium. TGCT a ﬀects\\njoints, bursae, and tendon sheaths causing symptoms thatinclude pain, in ﬂammation, and joint sti ﬀness [1 –4]. This\\ndisease has a wide clinical spectrum capable of a ﬀectingpatients of all ages but most commonly occurs in young\\nadult females with a median age of 40 years [2, 5, 6]. TGCTis divided according to the site of origin (intra- or extra-\\narticular) and growth pattern: localized TGCT (L-TGCT),\\nformerly known as giant cell tumor of tendon sheath ordiﬀuse TGCT (D-TGCT), previously referred to as pigmen-\\nted villonodular synovitis (PVNS) [3, 7 –9]. The worldwideHindawi\\nCase Reports in Orthopedics\\nVolume 2022, Article ID 7768764, 13 pages\\nhttps://doi.org/10.1155/2022/7768764', '@search.score': 0.8763153, '@search.reranker_score': None, '@search.highlights': None, '@search.captions': None}\n",
      "{'id': '4', 'metadata_storage_path': '2_sample_biology.pdf', 'content': 'treatment; the patient is currently on pexidartinib (400 mg/day) with improved symptom control. Case 3-Knee. A 55-year-old\\nmale patient received pexidartinib pre- and postoperatively. A reduction in swelling and the size of the popliteal cyst wassigniﬁcant and maintained, with the synovial disease growing when pexidartinib was discontinued. Surgery and adjuvant\\ntherapy eliminated the disease as of the last follow-up visit (11 months postoperative). These cases provide a unique\\nperspective based on tumor location, type/timing of treatment strategy, and patient outcomes. Optimal treatment strategies forthis debilitating disease may entail utilizing a combination approach (surgery+systemic treatment) to reduce surgical morbidityand the risk of postoperative disease recurrence.\\n1. Introduction\\nTenosynovial giant cell tumor (TGCT) is a rare, usually\\nbenign neoplasm derived from the synovium. TGCT a ﬀects', '@search.score': 0.70991147, '@search.reranker_score': None, '@search.highlights': None, '@search.captions': None}\n",
      "{'id': '2', 'metadata_storage_path': '2_sample_biology.pdf', 'content': 'Academic Editor: Taketoshi Yasuda\\nCopyright © 2022 Nicholas M. Bernthal et al. This is an open access article distributed under the Creative Commons Attribution\\nLicense, which permits unrestricted use, distribution, and reproduction in any medium, provided the original work is\\nproperly cited.\\nTenosynovial giant cell tumor (TGCT) is a rare neoplasm of the joint synovium that has a wide clinical spectrum including pain\\nand sti ﬀness in the a ﬀected joint, joint swelling, periarticular erosions, and cartilage loss, which can severely impact quality of life.\\nThe mainstay treatment for TGCT has been surgery involving partial or total synovectomy using arthroscopic or open techniques.However, surgical resection alone is associated with high recurrence rates, particularly in di ﬀuse-TGCT (D-TGCT) cases. The 3\\ncases presented here summarize a combination approach (surgery+pexidartinib [tyrosine kinase inhibitor]) in patients with', '@search.score': 0.7044299, '@search.reranker_score': None, '@search.highlights': None, '@search.captions': None}\n",
      "{'id': '1', 'metadata_storage_path': '2_sample_biology.pdf', 'content': 'Case Report\\nComplementary Effects of Surgery and Pexidartinib in the\\nManagement of Patients with Complex Diffuse-TenosynovialGiant Cell Tumor\\nNicholas M. Bernthal ,1R. Lor Randall ,2Lauren N. Zeitlinger ,2Erik J. Geiger ,1\\nand John H. Healey3\\n1Department of Orthopaedic Surgery, David Ge ﬀen School of Medicine at UCLA, 1225 15th Street, Suite 2100, Santa Monica, CA,\\nUSA 90404\\n2Department of Orthopaedic Surgery, University of California, Davis, 4860 Y Street, Suite 3800, Sacramento, CA, USA 95817\\n3Department of Surgery, Orthopaedic Service, Memorial Sloan Kettering Cancer Center, 1275 York Avenue, New York, NY, USA\\n10065\\nCorrespondence should be addressed to Nicholas M. Bernthal; nbernthal@mednet.ucla.edu\\nReceived 20 June 2022; Revised 6 October 2022; Accepted 4 November 2022; Published 3 December 2022 \\nAcademic Editor: Taketoshi Yasuda\\nCopyright © 2022 Nicholas M. Bernthal et al. This is an open access article distributed under the Creative Commons Attribution', '@search.score': 0.54130554, '@search.reranker_score': None, '@search.highlights': None, '@search.captions': None}\n"
     ]
    }
   ],
   "source": [
    "for result in results:\n",
    "    print(result)"
   ]
  },
  {
   "cell_type": "code",
   "execution_count": null,
   "metadata": {},
   "outputs": [],
   "source": []
  }
 ],
 "metadata": {
  "language_info": {
   "name": "python"
  }
 },
 "nbformat": 4,
 "nbformat_minor": 2
}
