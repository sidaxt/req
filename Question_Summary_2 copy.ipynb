{
 "cells": [
  {
   "cell_type": "code",
   "execution_count": null,
   "id": "6069c57f",
   "metadata": {
    "ExecuteTime": {
     "end_time": "2023-11-23T10:04:02.391369Z",
     "start_time": "2023-11-23T10:03:59.846947Z"
    },
    "code_folding": [
     0
    ]
   },
   "outputs": [],
   "source": [
    "## importing libraries\n",
    "# import pandas as pd\n",
    "import numpy as np\n",
    "import os\n",
    "import openai\n",
    "import spacy\n",
    "from tqdm import tqdm\n",
    "#gpt3.5\n",
    "# azure_base = \"https://gptopenaidev.openai.azure.com/\"\n",
    "# azure_key = \"6a0167093c874df6bcac4d3f9c414cd5\"\n",
    "# openai_api_version_t = \"2023-03-15-preview\"\n",
    "\n",
    "# #gpt 4\n",
    "# openai.api_type = \"azure\"\n",
    "# azure_base = \"https://genaicoedevopenaieast01.openai.azure.com/openai\"\n",
    "# openai_api_version_t = \"2024-08-01-preview\"\n",
    "# azure_key = \"351e93b1489a45769b3dadac8a0f78b9\"\n",
    "\n",
    "\n",
    "#gpt 4\n",
    "openai.api_type = \"azure\"\n",
    "azure_base = \"https://genaicoedevopenaieast01.openai.azure.com/openai\"\n",
    "openai_api_version_t = \"2023-03-15-preview\"\n",
    "azure_key = \"a20ac46cd86c4c49bb795b713e814afb\"\n",
    "\n",
    "openai.api_type = \"azure\"\n",
    "openai.api_version = openai_api_version_t \n",
    "openai.api_base = azure_base # Your Azure OpenAI resource's endpoint value.\n",
    "# openai.\n",
    "openai.api_key = azure_key\n",
    "\n",
    "\n",
    "API_KEY = \"a20ac46cd86c4c49bb795b713e814afb\"\n",
    "# RESOURCE_NAME =  \"azure\"\n",
    "DEPLOYMENT_NAME = \"gpt-4\" \n",
    "API_VERSION = \"2023-03-15-preview\"  # Example, check Azure docs for the latest version\n",
    "ENDPOINT =  \"https://gpt4openaidev.openai.azure.com/\"\n",
    "API_BASE = \"https://gpt4openaidev.openai.azure.com/\"\n",
    "\n"
   ]
  },
  {
   "cell_type": "code",
   "execution_count": null,
   "id": "669337b9",
   "metadata": {},
   "outputs": [],
   "source": [
    "pip install openai==0.28"
   ]
  },
  {
   "cell_type": "code",
   "execution_count": 3,
   "id": "34c722cd",
   "metadata": {},
   "outputs": [],
   "source": [
    "import pandas as pd"
   ]
  },
  {
   "cell_type": "code",
   "execution_count": null,
   "id": "24655dab",
   "metadata": {},
   "outputs": [],
   "source": [
    "pip install --upgrade numpy pandas"
   ]
  },
  {
   "cell_type": "code",
   "execution_count": 18,
   "id": "777f4a8f",
   "metadata": {
    "ExecuteTime": {
     "end_time": "2023-11-23T10:04:02.811412Z",
     "start_time": "2023-11-23T10:04:02.393367Z"
    }
   },
   "outputs": [],
   "source": [
    "## Loading files\n",
    "df = pd.read_csv(\"final_df_16Nov.csv\")\n",
    "nlp = spacy.load(\"en_core_web_sm\")"
   ]
  },
  {
   "cell_type": "code",
   "execution_count": null,
   "id": "5f280907",
   "metadata": {},
   "outputs": [],
   "source": [
    "pip show spacy"
   ]
  },
  {
   "cell_type": "code",
   "execution_count": null,
   "id": "a50b8217",
   "metadata": {},
   "outputs": [],
   "source": [
    "pip install spacy --upgrade"
   ]
  },
  {
   "cell_type": "code",
   "execution_count": null,
   "id": "398eba38",
   "metadata": {},
   "outputs": [],
   "source": [
    "pip install spacy"
   ]
  },
  {
   "cell_type": "code",
   "execution_count": null,
   "id": "a7d2c3f6",
   "metadata": {},
   "outputs": [],
   "source": [
    "!python -m spacy download en_core_web_sm"
   ]
  },
  {
   "cell_type": "code",
   "execution_count": 19,
   "id": "99db7076",
   "metadata": {
    "ExecuteTime": {
     "end_time": "2023-11-23T10:04:02.818499Z",
     "start_time": "2023-11-23T10:04:02.813410Z"
    },
    "code_folding": [
     0
    ]
   },
   "outputs": [],
   "source": [
    "## API Function\n",
    "def api_call(input_str, temp, prompt):\n",
    "    temp = temp\n",
    "    prompt = prompt\n",
    "    response = openai.ChatCompletion.create(\n",
    "        engine=\"gpt-35-turbo-16k\",\n",
    "        messages=[\n",
    "            {\"role\": \"system\", \"content\": prompt},\n",
    "            {\"role\": \"user\", \"content\": \"Hello, how are you?\"}\n",
    "            # {\"role\": \"user\", \"content\": input_str}\n",
    "        ], \n",
    "        temperature = temp\n",
    "    )\n",
    "    return (response)"
   ]
  },
  {
   "cell_type": "code",
   "execution_count": 8,
   "id": "9c5e6c36",
   "metadata": {
    "ExecuteTime": {
     "end_time": "2023-11-23T10:04:02.825564Z",
     "start_time": "2023-11-23T10:04:02.819631Z"
    }
   },
   "outputs": [],
   "source": [
    "def input_generator(que,ans):\n",
    "    input_str = \"Question = \" + que + \"\\n ------------------------------------------------------------\"\n",
    "    input_str = input_str + \"\\n\" +\"Answer = \" + \" = \" + ans + \"\\n\" + \"----------------------------------------------------\"\n",
    "    return input_str"
   ]
  },
  {
   "cell_type": "code",
   "execution_count": 9,
   "id": "b0f4b308",
   "metadata": {
    "ExecuteTime": {
     "end_time": "2023-11-23T10:04:02.830118Z",
     "start_time": "2023-11-23T10:04:02.826559Z"
    }
   },
   "outputs": [],
   "source": [
    "def keyword_generator(ans):\n",
    "    keywords_string = \"\"\n",
    "    doc = nlp(ans)\n",
    "    for i in doc.ents:\n",
    "        keywords_string += \" \" + str(i) + \",\"\n",
    "    return keywords_string"
   ]
  },
  {
   "cell_type": "code",
   "execution_count": 10,
   "id": "c230b489",
   "metadata": {
    "ExecuteTime": {
     "end_time": "2023-11-23T10:04:02.834195Z",
     "start_time": "2023-11-23T10:04:02.831117Z"
    }
   },
   "outputs": [],
   "source": [
    "def prompt_generator(keywords_string):\n",
    "    prompt = \"\"\"\n",
    "    Question and Answer are provided, Question starts with 'Question' token, Answer starts with 'Answer' token. \n",
    "    Extract the below points:\n",
    "    1. Capture all the suggestions and comments provided\n",
    "    2. Also the suggestions/comments given related to these keywords '{0}'\n",
    "    3. Consider each and every point important and try to cover most of the information as you can.\n",
    "    \"\"\".format(keywords_string)\n",
    "    return(prompt)"
   ]
  },
  {
   "cell_type": "code",
   "execution_count": 11,
   "id": "06239cb5",
   "metadata": {
    "ExecuteTime": {
     "end_time": "2023-11-23T10:04:02.839595Z",
     "start_time": "2023-11-23T10:04:02.836302Z"
    }
   },
   "outputs": [],
   "source": [
    "def grouping_responses(question, response_list):\n",
    "    grouped_responses = \"Question = \" + question + \"\\n ----------------------------------------------------------------\"\n",
    "    for i in response_list:\n",
    "        grouped_responses += \"\\n \" + i\n",
    "        grouped_responses += \"\\n ---------------------------------------------------------------------------------\"\n",
    "    return grouped_responses"
   ]
  },
  {
   "cell_type": "code",
   "execution_count": 12,
   "id": "414e610e",
   "metadata": {
    "ExecuteTime": {
     "end_time": "2023-11-23T10:54:44.624985Z",
     "start_time": "2023-11-23T10:54:44.619590Z"
    }
   },
   "outputs": [
    {
     "data": {
      "text/plain": [
       "'The PSS team is always looking at ways to improve. Do you have other comments or suggestions on how we continue to improve LIBTAYO Surround or the PJN / PLR?'"
      ]
     },
     "execution_count": 12,
     "metadata": {},
     "output_type": "execute_result"
    }
   ],
   "source": [
    "df.columns[16]"
   ]
  },
  {
   "cell_type": "code",
   "execution_count": 13,
   "id": "7707a93c",
   "metadata": {
    "ExecuteTime": {
     "end_time": "2023-11-23T10:48:08.094331Z",
     "start_time": "2023-11-23T10:48:08.090277Z"
    }
   },
   "outputs": [],
   "source": [
    "question_list = [df.columns[15]]"
   ]
  },
  {
   "cell_type": "code",
   "execution_count": 14,
   "id": "0f41b526",
   "metadata": {
    "ExecuteTime": {
     "end_time": "2023-11-23T10:48:08.454529Z",
     "start_time": "2023-11-23T10:48:08.448471Z"
    }
   },
   "outputs": [
    {
     "data": {
      "text/plain": [
       "['Do you feel you have appropriate reference or training resources if you have questions?']"
      ]
     },
     "execution_count": 14,
     "metadata": {},
     "output_type": "execute_result"
    }
   ],
   "source": [
    "question_list"
   ]
  },
  {
   "cell_type": "code",
   "execution_count": 15,
   "id": "d6b3c02a",
   "metadata": {
    "ExecuteTime": {
     "end_time": "2023-11-23T10:48:23.562504Z",
     "start_time": "2023-11-23T10:48:23.558811Z"
    }
   },
   "outputs": [],
   "source": [
    "temper = 0.5"
   ]
  },
  {
   "cell_type": "code",
   "execution_count": 20,
   "id": "f36b4afd",
   "metadata": {
    "ExecuteTime": {
     "end_time": "2023-11-23T10:49:01.325554Z",
     "start_time": "2023-11-23T10:48:24.278921Z"
    }
   },
   "outputs": [
    {
     "name": "stderr",
     "output_type": "stream",
     "text": [
      "  0%|          | 0/1 [00:00<?, ?it/s]\n"
     ]
    },
    {
     "ename": "InvalidRequestError",
     "evalue": "Resource not found",
     "output_type": "error",
     "traceback": [
      "\u001b[1;31m---------------------------------------------------------------------------\u001b[0m",
      "\u001b[1;31mInvalidRequestError\u001b[0m                       Traceback (most recent call last)",
      "Cell \u001b[1;32mIn[20], line 10\u001b[0m\n\u001b[0;32m      8\u001b[0m         keywords \u001b[38;5;241m=\u001b[39m keyword_generator(answer)\n\u001b[0;32m      9\u001b[0m         prompt \u001b[38;5;241m=\u001b[39m prompt_generator(keywords)\n\u001b[1;32m---> 10\u001b[0m         output \u001b[38;5;241m=\u001b[39m \u001b[43mapi_call\u001b[49m\u001b[43m(\u001b[49m\u001b[43minput_str\u001b[49m\u001b[43m,\u001b[49m\u001b[43m \u001b[49m\u001b[43mtemper\u001b[49m\u001b[43m,\u001b[49m\u001b[43m \u001b[49m\u001b[43mprompt\u001b[49m\u001b[43m)\u001b[49m\n\u001b[0;32m     11\u001b[0m         outputs\u001b[38;5;241m.\u001b[39mappend(output[\u001b[38;5;124m'\u001b[39m\u001b[38;5;124mchoices\u001b[39m\u001b[38;5;124m'\u001b[39m][\u001b[38;5;241m0\u001b[39m][\u001b[38;5;124m'\u001b[39m\u001b[38;5;124mmessage\u001b[39m\u001b[38;5;124m'\u001b[39m][\u001b[38;5;124m'\u001b[39m\u001b[38;5;124mcontent\u001b[39m\u001b[38;5;124m'\u001b[39m])\n\u001b[0;32m     13\u001b[0m consolidated_response \u001b[38;5;241m=\u001b[39m grouping_responses(question, outputs)\n",
      "Cell \u001b[1;32mIn[19], line 5\u001b[0m, in \u001b[0;36mapi_call\u001b[1;34m(input_str, temp, prompt)\u001b[0m\n\u001b[0;32m      3\u001b[0m temp \u001b[38;5;241m=\u001b[39m temp\n\u001b[0;32m      4\u001b[0m prompt \u001b[38;5;241m=\u001b[39m prompt\n\u001b[1;32m----> 5\u001b[0m response \u001b[38;5;241m=\u001b[39m \u001b[43mopenai\u001b[49m\u001b[38;5;241;43m.\u001b[39;49m\u001b[43mChatCompletion\u001b[49m\u001b[38;5;241;43m.\u001b[39;49m\u001b[43mcreate\u001b[49m\u001b[43m(\u001b[49m\n\u001b[0;32m      6\u001b[0m \u001b[43m    \u001b[49m\u001b[43mengine\u001b[49m\u001b[38;5;241;43m=\u001b[39;49m\u001b[38;5;124;43m\"\u001b[39;49m\u001b[38;5;124;43mgpt-35-turbo-16k\u001b[39;49m\u001b[38;5;124;43m\"\u001b[39;49m\u001b[43m,\u001b[49m\n\u001b[0;32m      7\u001b[0m \u001b[43m    \u001b[49m\u001b[43mmessages\u001b[49m\u001b[38;5;241;43m=\u001b[39;49m\u001b[43m[\u001b[49m\n\u001b[0;32m      8\u001b[0m \u001b[43m        \u001b[49m\u001b[43m{\u001b[49m\u001b[38;5;124;43m\"\u001b[39;49m\u001b[38;5;124;43mrole\u001b[39;49m\u001b[38;5;124;43m\"\u001b[39;49m\u001b[43m:\u001b[49m\u001b[43m \u001b[49m\u001b[38;5;124;43m\"\u001b[39;49m\u001b[38;5;124;43msystem\u001b[39;49m\u001b[38;5;124;43m\"\u001b[39;49m\u001b[43m,\u001b[49m\u001b[43m \u001b[49m\u001b[38;5;124;43m\"\u001b[39;49m\u001b[38;5;124;43mcontent\u001b[39;49m\u001b[38;5;124;43m\"\u001b[39;49m\u001b[43m:\u001b[49m\u001b[43m \u001b[49m\u001b[43mprompt\u001b[49m\u001b[43m}\u001b[49m\u001b[43m,\u001b[49m\n\u001b[0;32m      9\u001b[0m \u001b[43m        \u001b[49m\u001b[43m{\u001b[49m\u001b[38;5;124;43m\"\u001b[39;49m\u001b[38;5;124;43mrole\u001b[39;49m\u001b[38;5;124;43m\"\u001b[39;49m\u001b[43m:\u001b[49m\u001b[43m \u001b[49m\u001b[38;5;124;43m\"\u001b[39;49m\u001b[38;5;124;43muser\u001b[39;49m\u001b[38;5;124;43m\"\u001b[39;49m\u001b[43m,\u001b[49m\u001b[43m \u001b[49m\u001b[38;5;124;43m\"\u001b[39;49m\u001b[38;5;124;43mcontent\u001b[39;49m\u001b[38;5;124;43m\"\u001b[39;49m\u001b[43m:\u001b[49m\u001b[43m \u001b[49m\u001b[38;5;124;43m\"\u001b[39;49m\u001b[38;5;124;43mHello, how are you?\u001b[39;49m\u001b[38;5;124;43m\"\u001b[39;49m\u001b[43m}\u001b[49m\n\u001b[0;32m     10\u001b[0m \u001b[43m        \u001b[49m\u001b[38;5;66;43;03m# {\"role\": \"user\", \"content\": input_str}\u001b[39;49;00m\n\u001b[0;32m     11\u001b[0m \u001b[43m    \u001b[49m\u001b[43m]\u001b[49m\u001b[43m,\u001b[49m\u001b[43m \u001b[49m\n\u001b[0;32m     12\u001b[0m \u001b[43m    \u001b[49m\u001b[43mtemperature\u001b[49m\u001b[43m \u001b[49m\u001b[38;5;241;43m=\u001b[39;49m\u001b[43m \u001b[49m\u001b[43mtemp\u001b[49m\n\u001b[0;32m     13\u001b[0m \u001b[43m\u001b[49m\u001b[43m)\u001b[49m\n\u001b[0;32m     14\u001b[0m \u001b[38;5;28;01mreturn\u001b[39;00m (response)\n",
      "File \u001b[1;32m~\\AppData\\Local\\Packages\\PythonSoftwareFoundation.Python.3.11_qbz5n2kfra8p0\\LocalCache\\local-packages\\Python311\\site-packages\\openai\\api_resources\\chat_completion.py:25\u001b[0m, in \u001b[0;36mChatCompletion.create\u001b[1;34m(cls, *args, **kwargs)\u001b[0m\n\u001b[0;32m     23\u001b[0m \u001b[38;5;28;01mwhile\u001b[39;00m \u001b[38;5;28;01mTrue\u001b[39;00m:\n\u001b[0;32m     24\u001b[0m     \u001b[38;5;28;01mtry\u001b[39;00m:\n\u001b[1;32m---> 25\u001b[0m         \u001b[38;5;28;01mreturn\u001b[39;00m \u001b[38;5;28;43msuper\u001b[39;49m\u001b[43m(\u001b[49m\u001b[43m)\u001b[49m\u001b[38;5;241;43m.\u001b[39;49m\u001b[43mcreate\u001b[49m\u001b[43m(\u001b[49m\u001b[38;5;241;43m*\u001b[39;49m\u001b[43margs\u001b[49m\u001b[43m,\u001b[49m\u001b[43m \u001b[49m\u001b[38;5;241;43m*\u001b[39;49m\u001b[38;5;241;43m*\u001b[39;49m\u001b[43mkwargs\u001b[49m\u001b[43m)\u001b[49m\n\u001b[0;32m     26\u001b[0m     \u001b[38;5;28;01mexcept\u001b[39;00m TryAgain \u001b[38;5;28;01mas\u001b[39;00m e:\n\u001b[0;32m     27\u001b[0m         \u001b[38;5;28;01mif\u001b[39;00m timeout \u001b[38;5;129;01mis\u001b[39;00m \u001b[38;5;129;01mnot\u001b[39;00m \u001b[38;5;28;01mNone\u001b[39;00m \u001b[38;5;129;01mand\u001b[39;00m time\u001b[38;5;241m.\u001b[39mtime() \u001b[38;5;241m>\u001b[39m start \u001b[38;5;241m+\u001b[39m timeout:\n",
      "File \u001b[1;32m~\\AppData\\Local\\Packages\\PythonSoftwareFoundation.Python.3.11_qbz5n2kfra8p0\\LocalCache\\local-packages\\Python311\\site-packages\\openai\\api_resources\\abstract\\engine_api_resource.py:153\u001b[0m, in \u001b[0;36mEngineAPIResource.create\u001b[1;34m(cls, api_key, api_base, api_type, request_id, api_version, organization, **params)\u001b[0m\n\u001b[0;32m    127\u001b[0m \u001b[38;5;129m@classmethod\u001b[39m\n\u001b[0;32m    128\u001b[0m \u001b[38;5;28;01mdef\u001b[39;00m \u001b[38;5;21mcreate\u001b[39m(\n\u001b[0;32m    129\u001b[0m     \u001b[38;5;28mcls\u001b[39m,\n\u001b[1;32m   (...)\u001b[0m\n\u001b[0;32m    136\u001b[0m     \u001b[38;5;241m*\u001b[39m\u001b[38;5;241m*\u001b[39mparams,\n\u001b[0;32m    137\u001b[0m ):\n\u001b[0;32m    138\u001b[0m     (\n\u001b[0;32m    139\u001b[0m         deployment_id,\n\u001b[0;32m    140\u001b[0m         engine,\n\u001b[1;32m   (...)\u001b[0m\n\u001b[0;32m    150\u001b[0m         api_key, api_base, api_type, api_version, organization, \u001b[38;5;241m*\u001b[39m\u001b[38;5;241m*\u001b[39mparams\n\u001b[0;32m    151\u001b[0m     )\n\u001b[1;32m--> 153\u001b[0m     response, _, api_key \u001b[38;5;241m=\u001b[39m \u001b[43mrequestor\u001b[49m\u001b[38;5;241;43m.\u001b[39;49m\u001b[43mrequest\u001b[49m\u001b[43m(\u001b[49m\n\u001b[0;32m    154\u001b[0m \u001b[43m        \u001b[49m\u001b[38;5;124;43m\"\u001b[39;49m\u001b[38;5;124;43mpost\u001b[39;49m\u001b[38;5;124;43m\"\u001b[39;49m\u001b[43m,\u001b[49m\n\u001b[0;32m    155\u001b[0m \u001b[43m        \u001b[49m\u001b[43murl\u001b[49m\u001b[43m,\u001b[49m\n\u001b[0;32m    156\u001b[0m \u001b[43m        \u001b[49m\u001b[43mparams\u001b[49m\u001b[38;5;241;43m=\u001b[39;49m\u001b[43mparams\u001b[49m\u001b[43m,\u001b[49m\n\u001b[0;32m    157\u001b[0m \u001b[43m        \u001b[49m\u001b[43mheaders\u001b[49m\u001b[38;5;241;43m=\u001b[39;49m\u001b[43mheaders\u001b[49m\u001b[43m,\u001b[49m\n\u001b[0;32m    158\u001b[0m \u001b[43m        \u001b[49m\u001b[43mstream\u001b[49m\u001b[38;5;241;43m=\u001b[39;49m\u001b[43mstream\u001b[49m\u001b[43m,\u001b[49m\n\u001b[0;32m    159\u001b[0m \u001b[43m        \u001b[49m\u001b[43mrequest_id\u001b[49m\u001b[38;5;241;43m=\u001b[39;49m\u001b[43mrequest_id\u001b[49m\u001b[43m,\u001b[49m\n\u001b[0;32m    160\u001b[0m \u001b[43m        \u001b[49m\u001b[43mrequest_timeout\u001b[49m\u001b[38;5;241;43m=\u001b[39;49m\u001b[43mrequest_timeout\u001b[49m\u001b[43m,\u001b[49m\n\u001b[0;32m    161\u001b[0m \u001b[43m    \u001b[49m\u001b[43m)\u001b[49m\n\u001b[0;32m    163\u001b[0m     \u001b[38;5;28;01mif\u001b[39;00m stream:\n\u001b[0;32m    164\u001b[0m         \u001b[38;5;66;03m# must be an iterator\u001b[39;00m\n\u001b[0;32m    165\u001b[0m         \u001b[38;5;28;01massert\u001b[39;00m \u001b[38;5;129;01mnot\u001b[39;00m \u001b[38;5;28misinstance\u001b[39m(response, OpenAIResponse)\n",
      "File \u001b[1;32m~\\AppData\\Local\\Packages\\PythonSoftwareFoundation.Python.3.11_qbz5n2kfra8p0\\LocalCache\\local-packages\\Python311\\site-packages\\openai\\api_requestor.py:298\u001b[0m, in \u001b[0;36mAPIRequestor.request\u001b[1;34m(self, method, url, params, headers, files, stream, request_id, request_timeout)\u001b[0m\n\u001b[0;32m    277\u001b[0m \u001b[38;5;28;01mdef\u001b[39;00m \u001b[38;5;21mrequest\u001b[39m(\n\u001b[0;32m    278\u001b[0m     \u001b[38;5;28mself\u001b[39m,\n\u001b[0;32m    279\u001b[0m     method,\n\u001b[1;32m   (...)\u001b[0m\n\u001b[0;32m    286\u001b[0m     request_timeout: Optional[Union[\u001b[38;5;28mfloat\u001b[39m, Tuple[\u001b[38;5;28mfloat\u001b[39m, \u001b[38;5;28mfloat\u001b[39m]]] \u001b[38;5;241m=\u001b[39m \u001b[38;5;28;01mNone\u001b[39;00m,\n\u001b[0;32m    287\u001b[0m ) \u001b[38;5;241m-\u001b[39m\u001b[38;5;241m>\u001b[39m Tuple[Union[OpenAIResponse, Iterator[OpenAIResponse]], \u001b[38;5;28mbool\u001b[39m, \u001b[38;5;28mstr\u001b[39m]:\n\u001b[0;32m    288\u001b[0m     result \u001b[38;5;241m=\u001b[39m \u001b[38;5;28mself\u001b[39m\u001b[38;5;241m.\u001b[39mrequest_raw(\n\u001b[0;32m    289\u001b[0m         method\u001b[38;5;241m.\u001b[39mlower(),\n\u001b[0;32m    290\u001b[0m         url,\n\u001b[1;32m   (...)\u001b[0m\n\u001b[0;32m    296\u001b[0m         request_timeout\u001b[38;5;241m=\u001b[39mrequest_timeout,\n\u001b[0;32m    297\u001b[0m     )\n\u001b[1;32m--> 298\u001b[0m     resp, got_stream \u001b[38;5;241m=\u001b[39m \u001b[38;5;28;43mself\u001b[39;49m\u001b[38;5;241;43m.\u001b[39;49m\u001b[43m_interpret_response\u001b[49m\u001b[43m(\u001b[49m\u001b[43mresult\u001b[49m\u001b[43m,\u001b[49m\u001b[43m \u001b[49m\u001b[43mstream\u001b[49m\u001b[43m)\u001b[49m\n\u001b[0;32m    299\u001b[0m     \u001b[38;5;28;01mreturn\u001b[39;00m resp, got_stream, \u001b[38;5;28mself\u001b[39m\u001b[38;5;241m.\u001b[39mapi_key\n",
      "File \u001b[1;32m~\\AppData\\Local\\Packages\\PythonSoftwareFoundation.Python.3.11_qbz5n2kfra8p0\\LocalCache\\local-packages\\Python311\\site-packages\\openai\\api_requestor.py:700\u001b[0m, in \u001b[0;36mAPIRequestor._interpret_response\u001b[1;34m(self, result, stream)\u001b[0m\n\u001b[0;32m    692\u001b[0m     \u001b[38;5;28;01mreturn\u001b[39;00m (\n\u001b[0;32m    693\u001b[0m         \u001b[38;5;28mself\u001b[39m\u001b[38;5;241m.\u001b[39m_interpret_response_line(\n\u001b[0;32m    694\u001b[0m             line, result\u001b[38;5;241m.\u001b[39mstatus_code, result\u001b[38;5;241m.\u001b[39mheaders, stream\u001b[38;5;241m=\u001b[39m\u001b[38;5;28;01mTrue\u001b[39;00m\n\u001b[0;32m    695\u001b[0m         )\n\u001b[0;32m    696\u001b[0m         \u001b[38;5;28;01mfor\u001b[39;00m line \u001b[38;5;129;01min\u001b[39;00m parse_stream(result\u001b[38;5;241m.\u001b[39miter_lines())\n\u001b[0;32m    697\u001b[0m     ), \u001b[38;5;28;01mTrue\u001b[39;00m\n\u001b[0;32m    698\u001b[0m \u001b[38;5;28;01melse\u001b[39;00m:\n\u001b[0;32m    699\u001b[0m     \u001b[38;5;28;01mreturn\u001b[39;00m (\n\u001b[1;32m--> 700\u001b[0m         \u001b[38;5;28;43mself\u001b[39;49m\u001b[38;5;241;43m.\u001b[39;49m\u001b[43m_interpret_response_line\u001b[49m\u001b[43m(\u001b[49m\n\u001b[0;32m    701\u001b[0m \u001b[43m            \u001b[49m\u001b[43mresult\u001b[49m\u001b[38;5;241;43m.\u001b[39;49m\u001b[43mcontent\u001b[49m\u001b[38;5;241;43m.\u001b[39;49m\u001b[43mdecode\u001b[49m\u001b[43m(\u001b[49m\u001b[38;5;124;43m\"\u001b[39;49m\u001b[38;5;124;43mutf-8\u001b[39;49m\u001b[38;5;124;43m\"\u001b[39;49m\u001b[43m)\u001b[49m\u001b[43m,\u001b[49m\n\u001b[0;32m    702\u001b[0m \u001b[43m            \u001b[49m\u001b[43mresult\u001b[49m\u001b[38;5;241;43m.\u001b[39;49m\u001b[43mstatus_code\u001b[49m\u001b[43m,\u001b[49m\n\u001b[0;32m    703\u001b[0m \u001b[43m            \u001b[49m\u001b[43mresult\u001b[49m\u001b[38;5;241;43m.\u001b[39;49m\u001b[43mheaders\u001b[49m\u001b[43m,\u001b[49m\n\u001b[0;32m    704\u001b[0m \u001b[43m            \u001b[49m\u001b[43mstream\u001b[49m\u001b[38;5;241;43m=\u001b[39;49m\u001b[38;5;28;43;01mFalse\u001b[39;49;00m\u001b[43m,\u001b[49m\n\u001b[0;32m    705\u001b[0m \u001b[43m        \u001b[49m\u001b[43m)\u001b[49m,\n\u001b[0;32m    706\u001b[0m         \u001b[38;5;28;01mFalse\u001b[39;00m,\n\u001b[0;32m    707\u001b[0m     )\n",
      "File \u001b[1;32m~\\AppData\\Local\\Packages\\PythonSoftwareFoundation.Python.3.11_qbz5n2kfra8p0\\LocalCache\\local-packages\\Python311\\site-packages\\openai\\api_requestor.py:763\u001b[0m, in \u001b[0;36mAPIRequestor._interpret_response_line\u001b[1;34m(self, rbody, rcode, rheaders, stream)\u001b[0m\n\u001b[0;32m    761\u001b[0m stream_error \u001b[38;5;241m=\u001b[39m stream \u001b[38;5;129;01mand\u001b[39;00m \u001b[38;5;124m\"\u001b[39m\u001b[38;5;124merror\u001b[39m\u001b[38;5;124m\"\u001b[39m \u001b[38;5;129;01min\u001b[39;00m resp\u001b[38;5;241m.\u001b[39mdata\n\u001b[0;32m    762\u001b[0m \u001b[38;5;28;01mif\u001b[39;00m stream_error \u001b[38;5;129;01mor\u001b[39;00m \u001b[38;5;129;01mnot\u001b[39;00m \u001b[38;5;241m200\u001b[39m \u001b[38;5;241m<\u001b[39m\u001b[38;5;241m=\u001b[39m rcode \u001b[38;5;241m<\u001b[39m \u001b[38;5;241m300\u001b[39m:\n\u001b[1;32m--> 763\u001b[0m     \u001b[38;5;28;01mraise\u001b[39;00m \u001b[38;5;28mself\u001b[39m\u001b[38;5;241m.\u001b[39mhandle_error_response(\n\u001b[0;32m    764\u001b[0m         rbody, rcode, resp\u001b[38;5;241m.\u001b[39mdata, rheaders, stream_error\u001b[38;5;241m=\u001b[39mstream_error\n\u001b[0;32m    765\u001b[0m     )\n\u001b[0;32m    766\u001b[0m \u001b[38;5;28;01mreturn\u001b[39;00m resp\n",
      "\u001b[1;31mInvalidRequestError\u001b[0m: Resource not found"
     ]
    }
   ],
   "source": [
    "outputs_2 = ''\n",
    "for question in tqdm(question_list):\n",
    "    outputs = []\n",
    "    answers_list = df[question].values\n",
    "    for answer in answers_list:\n",
    "        if str(answer) != 'nan':\n",
    "            input_str = input_generator(question,answer)\n",
    "            keywords = keyword_generator(answer)\n",
    "            prompt = prompt_generator(keywords)\n",
    "            output = api_call(input_str, temper, prompt)\n",
    "            outputs.append(output['choices'][0]['message']['content'])\n",
    "            \n",
    "    consolidated_response = grouping_responses(question, outputs)\n",
    "    \n",
    "    print(consolidated_response)\n",
    "    \n",
    "    \n",
    "    # prompt_2 = \"\"\"Question and Answers are provided. Question starts with 'Question' token, Answer starts after '-' line. \n",
    "    # 1. Provide a indepth analysis by combining all the points mentioned in the answers. \n",
    "    # 2. Consider each and every point important and try to cover most of the information\n",
    "    # as you can.\"\"\"\n",
    "    # temper_2 = 0.1\n",
    "    # summary = api_call(consolidated_response, temper_2, prompt_2)\n",
    "    \n",
    "    # outputs_2 = summary['choices'][0]['message']['content']\n",
    "    # # outputs_2 += \"\\n\"+ \"Question = \" + question + \"\\n ----------------------------------------------------------------\"\n",
    "    # # outputs_2 += \"\\n \" + (summary['choices'][0]['message']['content']) + \"\\n ---------------------------------------\"\n",
    "\n"
   ]
  },
  {
   "cell_type": "code",
   "execution_count": 102,
   "id": "a233ab72",
   "metadata": {
    "ExecuteTime": {
     "end_time": "2023-11-23T10:49:04.314492Z",
     "start_time": "2023-11-23T10:49:04.308092Z"
    }
   },
   "outputs": [
    {
     "name": "stdout",
     "output_type": "stream",
     "text": [
      "\n",
      "Question = Do you feel you have appropriate reference or training resources if you have questions?\n",
      " ----------------------------------------------------------------\n",
      " The respondents generally feel that they have appropriate reference or training resources for their questions. They have mentioned various resources such as an internal ORM resource, which is like a new start guide or a refresher guide, rolled out about a month and a half ago. They also mentioned an internal website managed by Carolyn Crane, which is like a market access for all trainings and things. However, they have not personally used this resource. There was also a mention of a training website, the name and acronym of which have been changed recently, but the respondent couldn't recall it.\n",
      "\n",
      "In terms of personal support, the respondents appreciate the availability of certain individuals for answering questions. They appreciate Sid's availability for answering questions and Mansour's graciousness with his time to provide quick responses about functionality. They prefer to keep Mansour in the loop. They also appreciate the weekly forum where a member from the PSS team is always present to answer queries. They specifically mentioned Mansour and Jen from the team as helpful resources.\n",
      "\n",
      "Some respondents also mentioned that they tend to keep all the emails, tips, and different things that have been sent out for reference. They found the ServiceNow request presentation helpful. Overall, they do not see any hurdles in acquiring the necessary knowledge or getting the answers they need. They find the current resources and support system extremely helpful.\n",
      "\n",
      "However, some respondents are unsure about the location and nature of the reference or training resources. They suggested going searching for these resources. There were no specific comments or suggestions related to any keywords provided in some responses.\n",
      " ---------------------------------------\n"
     ]
    }
   ],
   "source": [
    "print(outputs_2)"
   ]
  },
  {
   "cell_type": "code",
   "execution_count": 103,
   "id": "76162d2b",
   "metadata": {
    "ExecuteTime": {
     "end_time": "2023-11-23T10:49:12.732956Z",
     "start_time": "2023-11-23T10:49:12.729394Z"
    }
   },
   "outputs": [],
   "source": [
    "# 1. Seperately analyse the answers of the questions '{0}'\n",
    "# 3. Provide the response in bullets\n",
    "# 3. Provide the response in bullets, in a professional way"
   ]
  },
  {
   "cell_type": "code",
   "execution_count": 104,
   "id": "179898bc",
   "metadata": {
    "ExecuteTime": {
     "end_time": "2023-11-23T10:49:20.687634Z",
     "start_time": "2023-11-23T10:49:13.048182Z"
    }
   },
   "outputs": [],
   "source": [
    "prompt_2 = \"\"\"Question and Answers are provided. Question starts with 'Question' token, Answer starts after '-' line. \n",
    "1. Provide a precise analysis by combining all the points mentioned in the answers neglecting the ones with similarity. \n",
    "2. Capture all the information, each and every point is important\n",
    "3. Provide the response in a bullet points\n",
    "\"\"\"\n",
    "\n",
    "temper_2 = 0.5\n",
    "summary = api_call(outputs_2, temper_2, prompt_2)"
   ]
  },
  {
   "cell_type": "code",
   "execution_count": 105,
   "id": "a234bf52",
   "metadata": {
    "ExecuteTime": {
     "end_time": "2023-11-23T10:49:20.692211Z",
     "start_time": "2023-11-23T10:49:20.688627Z"
    }
   },
   "outputs": [
    {
     "name": "stdout",
     "output_type": "stream",
     "text": [
      "- Respondents generally feel they have appropriate reference or training resources for their queries.\n",
      "- Resources mentioned include an internal ORM resource, a new start guide or refresher guide rolled out recently.\n",
      "- An internal website managed by Carolyn Crane serves as a market access for all trainings, although not personally used by respondents.\n",
      "- A training website, recently renamed, was also mentioned but its specific name was not recalled.\n",
      "- Personal support is highly appreciated, with individuals like Sid and Mansour available for answering questions.\n",
      "- A weekly forum with a PSS team member is seen as a valuable resource for addressing queries, with Mansour and Jen specifically noted as helpful.\n",
      "- Respondents tend to keep all emails, tips, and other communication for reference.\n",
      "- The ServiceNow request presentation was found to be helpful.\n",
      "- Respondents don't see any obstacles in acquiring necessary knowledge or finding answers.\n",
      "- There is some uncertainty about the location and nature of reference or training resources, with a suggestion to search for these resources.\n",
      "- No specific comments or suggestions were made related to any keywords provided in some responses.\n"
     ]
    }
   ],
   "source": [
    "print(summary['choices'][0]['message']['content'])"
   ]
  },
  {
   "cell_type": "code",
   "execution_count": 106,
   "id": "0667168f",
   "metadata": {
    "ExecuteTime": {
     "end_time": "2023-11-23T10:49:29.279399Z",
     "start_time": "2023-11-23T10:49:20.694740Z"
    }
   },
   "outputs": [],
   "source": [
    "prompt_2 = \"\"\"Question and Answers are provided. Question starts with 'Question' token, Answer starts after '-' line. \n",
    "1. Provide a precise summary by combining all the points mentioned in the answers neglecting the ones with similarity. \n",
    "2. Capture all the information,'' each and every point is important\n",
    "3. Provide the response in a bullet points\n",
    "\"\"\"\n",
    "\n",
    "temper_2 = 0.5\n",
    "summary = api_call(outputs_2, temper_2, prompt_2)"
   ]
  },
  {
   "cell_type": "code",
   "execution_count": 107,
   "id": "cc66f0de",
   "metadata": {
    "ExecuteTime": {
     "end_time": "2023-11-23T10:49:29.291750Z",
     "start_time": "2023-11-23T10:49:29.285371Z"
    }
   },
   "outputs": [
    {
     "name": "stdout",
     "output_type": "stream",
     "text": [
      "- Respondents generally feel they have appropriate reference or training resources for their questions, including an internal ORM resource and an internal website managed by Carolyn Crane.\n",
      "- They have not personally used the internal website, which serves as a market access for all trainings.\n",
      "- A training website was mentioned, but its name and acronym have recently changed and were not recalled.\n",
      "- Personal support is valued, with individuals like Sid and Mansour appreciated for their availability and quick responses.\n",
      "- There is a weekly forum with a PSS team member always present to answer queries, with Mansour and Jen specifically mentioned as helpful.\n",
      "- Respondents keep all emails, tips, and other information sent out for reference, and found the ServiceNow request presentation helpful.\n",
      "- Despite finding the current resources and support system extremely helpful, some respondents are unsure about the location and nature of the resources.\n",
      "- There were no specific comments or suggestions related to any keywords provided in some responses.\n"
     ]
    }
   ],
   "source": [
    "print(summary['choices'][0]['message']['content'])"
   ]
  },
  {
   "cell_type": "code",
   "execution_count": 49,
   "id": "aaeae380",
   "metadata": {
    "ExecuteTime": {
     "end_time": "2023-11-23T10:23:44.730029Z",
     "start_time": "2023-11-23T10:23:44.723429Z"
    }
   },
   "outputs": [],
   "source": [
    "# prompt_2 = \"\"\"Question and Answers are provided. Question starts with 'Question' token, Answer starts after '-' line. \n",
    "# 1. Provide a precise analysis by combining all the points mentioned in the answers neglecting the ones with similarity. \n",
    "# 2. Capture all the information, each and every point is important\n",
    "# 3. Provide the response in bullets\n",
    "# \"\"\".format(question_list[0])\n",
    "\n",
    "# temper_2 = 0.5\n",
    "# summary = api_call(outputs_2, temper_2, prompt_2)"
   ]
  },
  {
   "cell_type": "code",
   "execution_count": 50,
   "id": "9c122981",
   "metadata": {
    "ExecuteTime": {
     "end_time": "2023-11-23T10:23:44.736683Z",
     "start_time": "2023-11-23T10:23:44.732019Z"
    }
   },
   "outputs": [],
   "source": [
    "# print(summary['choices'][0]['message']['content'])"
   ]
  }
 ],
 "metadata": {
  "kernelspec": {
   "display_name": "Python 3",
   "language": "python",
   "name": "python3"
  },
  "language_info": {
   "codemirror_mode": {
    "name": "ipython",
    "version": 3
   },
   "file_extension": ".py",
   "mimetype": "text/x-python",
   "name": "python",
   "nbconvert_exporter": "python",
   "pygments_lexer": "ipython3",
   "version": "3.11.9"
  }
 },
 "nbformat": 4,
 "nbformat_minor": 5
}
